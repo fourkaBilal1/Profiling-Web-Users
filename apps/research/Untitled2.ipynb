{
 "cells": [
  {
   "cell_type": "code",
   "execution_count": 7,
   "metadata": {},
   "outputs": [],
   "source": [
    "import json # will be needed for saving preprocessing details\n",
    "import numpy as np # for data manipulation\n",
    "import pandas as pd # for data manipulation\n",
    "from sklearn.model_selection import train_test_split # will be used for data split\n",
    "from sklearn.preprocessing import LabelEncoder # for preprocessing\n",
    "from sklearn.ensemble import RandomForestClassifier # for training the algorithm\n",
    "from sklearn.ensemble import ExtraTreesClassifier # for training the algorithm\n",
    "import joblib # for saving algorithm and preprocessing objects\n",
    "import sqlite3\n",
    "from geopy.geocoders import Nominatim"
   ]
  },
  {
   "cell_type": "code",
   "execution_count": 14,
   "metadata": {},
   "outputs": [
    {
     "data": {
      "text/plain": [
       "'electronics'"
      ]
     },
     "execution_count": 14,
     "metadata": {},
     "output_type": "execute_result"
    }
   ],
   "source": [
    "conn = sqlite3.connect(\"../../db.sqlite3\")\n",
    "cur = conn.cursor()\n",
    "cur.execute('''select * from sqlite_master''')\n",
    "l = cur.fetchall()\n",
    "#we will populate a list with the names of your tables\n",
    "tbl_name_list = []\n",
    "for sql_type, sql_name, tbl_name, rootpage, sql in l:\n",
    "    if sql_type == 'table':\n",
    "        tbl_name_list.append(sql_name)\n",
    "df_account = pd.read_sql_query(\"SELECT * FROM account_account where id=5\", conn).drop(\n",
    "    [\"password\",\"is_admin\",\"is_staff\",\"is_superuser\",\"is_active\",\"email\",\"username\"], axis=1\n",
    ")\n",
    "df_click = pd.read_sql_query(\"SELECT * FROM company_click where user_id=5\", conn)\n",
    "df_company = pd.read_sql_query(\"SELECT * FROM company_company\", conn).drop([\"name\"],axis=1)\n",
    "df = df_company.merge(df_click,left_on=\"id\",right_on=\"company_id\")\n",
    "df.dtypes\n",
    "df = df.drop(['id_x','id_y'],axis=1).sort_values(by=['date_click'],ascending=False)\n",
    "df = df.head()\n",
    "df = df['category'].value_counts().reset_index()\n",
    "df['index'][0]"
   ]
  },
  {
   "cell_type": "code",
   "execution_count": null,
   "metadata": {},
   "outputs": [],
   "source": []
  }
 ],
 "metadata": {
  "kernelspec": {
   "display_name": "venv",
   "language": "python",
   "name": "venv"
  },
  "language_info": {
   "codemirror_mode": {
    "name": "ipython",
    "version": 3
   },
   "file_extension": ".py",
   "mimetype": "text/x-python",
   "name": "python",
   "nbconvert_exporter": "python",
   "pygments_lexer": "ipython3",
   "version": "3.7.6"
  }
 },
 "nbformat": 4,
 "nbformat_minor": 4
}
